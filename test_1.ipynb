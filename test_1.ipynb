{
 "cells": [
  {
   "cell_type": "code",
   "execution_count": 38,
   "metadata": {},
   "outputs": [],
   "source": [
    "import numpy as np\n",
    "from sympy import *\n",
    "import matplotlib.pyplot as plt"
   ]
  },
  {
   "cell_type": "markdown",
   "metadata": {},
   "source": [
    "Simulacion uav control discreto"
   ]
  },
  {
   "cell_type": "code",
   "execution_count": 39,
   "metadata": {},
   "outputs": [],
   "source": [
    "# tiempo de muestreo [segundos]\n",
    "Ts = 0.01"
   ]
  },
  {
   "cell_type": "code",
   "execution_count": 40,
   "metadata": {},
   "outputs": [],
   "source": [
    "class uav_class:\n",
    "    # define class\n",
    "    def __init__(self, x0 = 0, x0_dot = 0, u_lim = 0.1):\n",
    "        self.x = x0\n",
    "        self.x_dot = x0_dot\n",
    "        self.u_lim = u_lim\n",
    "\n",
    "    def next(self, u, Ts):\n",
    "        self.x = self.x + self.x_dot*Ts\n",
    "        self.x_dot = self.x_dot + u*Ts; \n",
    "\n",
    "    def limita_u(self, u):\n",
    "        uOut = u\n",
    "        if abs(uOut)>self.u_lim:\n",
    "            uOut = np.sign(uOut)*self.u_lim\n",
    "            \n",
    "        return uOut\n",
    "\n",
    "    def control_x(self, x_req, K, Ts):\n",
    "        u = 0.0\n",
    "        e_x = self.x - x_req\n",
    "        uTs = -self.x_dot -K*(e_x + self.x_dot*Ts) \n",
    "        u = uTs/Ts\n",
    "        u = self.limita_u(u)\n",
    "        return u\n",
    "\n",
    "    def disp(self):\n",
    "        print ('x=%.02f' % self.x, ', x_dot=%.02f' % self.x_dot)\n"
   ]
  },
  {
   "cell_type": "code",
   "execution_count": 26,
   "metadata": {},
   "outputs": [],
   "source": [
    "N = 2000\n",
    "x     = np.zeros((N,1), dtype=float)\n",
    "x_dot = np.zeros((N,1), dtype=float)\n",
    "x_req = np.zeros((N,1), dtype=float)\n",
    "u = np.zeros((N,1), dtype=float)"
   ]
  },
  {
   "cell_type": "code",
   "execution_count": 37,
   "metadata": {},
   "outputs": [
    {
     "name": "stdout",
     "output_type": "stream",
     "text": [
      "x 0.000\n"
     ]
    }
   ],
   "source": [
    "#crea un objeto uav con valores inciailes\n",
    "U = 0.2\n",
    "uav = uav_class(0,0, U)\n",
    "print('x {:.3f}'.format(uav.x))"
   ]
  },
  {
   "cell_type": "code",
   "execution_count": 14,
   "metadata": {},
   "outputs": [
    {
     "data": {
      "image/png": "[encoded data removed]",
      "text/plain": [
       "<Figure size 432x288 with 1 Axes>"
      ]
     },
     "metadata": {
      "needs_background": "light"
     },
     "output_type": "display_data"
    }
   ],
   "source": [
    "U = 0.1;\n",
    "x0_list = [1, 10, 20]\n",
    "\n",
    "plt.plot(x,x_dot,'.-')\n",
    "\n",
    "\n",
    "for x0 in x0_list:\n",
    "    \n",
    "    for k in range(0,x.size-1):\n",
    "        x[k+1]     = x[k] + Ts*x_dot[k]\n",
    "        x_dot[k+1] = x_dot[k] + Ts * U\n",
    "\n",
    "    plt.plot(x,x_dot,'--')\n",
    "\n",
    "# posicion    \n",
    "plt.xlabel('sample')\n",
    "plt.ylabel('x [m]')\n",
    "plt.grid()\n",
    "# plt.xlim([0, 1])\n",
    "plt.draw()\n",
    "plt.savefig('test_1.png')\n"
   ]
  },
  {
   "cell_type": "code",
   "execution_count": 15,
   "metadata": {},
   "outputs": [
    {
     "data": {
      "text/plain": [
       "20"
      ]
     },
     "execution_count": 15,
     "metadata": {},
     "output_type": "execute_result"
    }
   ],
   "source": [
    "x0"
   ]
  },
  {
   "cell_type": "code",
   "execution_count": 16,
   "metadata": {},
   "outputs": [
    {
     "ename": "TypeError",
     "evalue": "'int' object is not iterable",
     "output_type": "error",
     "traceback": [
      "\u001b[1;31m---------------------------------------------------------------------------\u001b[0m",
      "\u001b[1;31mTypeError\u001b[0m                                 Traceback (most recent call last)",
      "\u001b[1;32m<ipython-input-16-8fbffd5451db>\u001b[0m in \u001b[0;36m<module>\u001b[1;34m()\u001b[0m\n\u001b[1;32m----> 1\u001b[1;33m \u001b[1;32mfor\u001b[0m \u001b[0mk\u001b[0m \u001b[1;32min\u001b[0m \u001b[0mx0\u001b[0m\u001b[1;33m:\u001b[0m\u001b[1;33m\u001b[0m\u001b[0m\n\u001b[0m\u001b[0;32m      2\u001b[0m     \u001b[0mprint\u001b[0m\u001b[1;33m(\u001b[0m\u001b[0mk\u001b[0m\u001b[1;33m)\u001b[0m\u001b[1;33m\u001b[0m\u001b[0m\n",
      "\u001b[1;31mTypeError\u001b[0m: 'int' object is not iterable"
     ]
    }
   ],
   "source": [
    "for k in x0:\n",
    "    print(k)"
   ]
  },
  {
   "cell_type": "code",
   "execution_count": null,
   "metadata": {},
   "outputs": [],
   "source": []
  },
  {
   "cell_type": "code",
   "execution_count": null,
   "metadata": {},
   "outputs": [],
   "source": []
  },
  {
   "cell_type": "code",
   "execution_count": null,
   "metadata": {},
   "outputs": [],
   "source": []
  },
  {
   "cell_type": "code",
   "execution_count": null,
   "metadata": {},
   "outputs": [],
   "source": []
  }
 ],
 "metadata": {
  "kernelspec": {
   "display_name": "Python 3",
   "language": "python",
   "name": "python3"
  },
  "language_info": {
   "codemirror_mode": {
    "name": "ipython",
    "version": 3
   },
   "file_extension": ".py",
   "mimetype": "text/x-python",
   "name": "python",
   "nbconvert_exporter": "python",
   "pygments_lexer": "ipython3",
   "version": "3.7.1"
  }
 },
 "nbformat": 4,
 "nbformat_minor": 2
}
