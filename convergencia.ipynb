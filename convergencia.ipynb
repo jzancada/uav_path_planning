{
 "cells": [
  {
   "cell_type": "code",
   "execution_count": 1,
   "metadata": {},
   "outputs": [],
   "source": [
    "import numpy as np\n",
    "from sympy import *\n",
    "import matplotlib.pyplot as plt"
   ]
  },
  {
   "cell_type": "markdown",
   "metadata": {},
   "source": [
    "# Convergencia control:\n",
    "* Conocido Ts y U calculamos el valor de K (parte recta del control)\n",
    "* Forma la matriz $A$ que relaciona el estado siguiente con $S[k+1] = A S[k]$\n",
    "* Calcula $A_0$, $A_1$, $A_2$, etc multiplicando sucesivamente $A$\n",
    "* imprime resulados\n",
    "\n",
    "Se comprueba que cuando $n$ tiende a infinito , la matriz $A_n$ tiende a cero"
   ]
  },
  {
   "cell_type": "code",
   "execution_count": 2,
   "metadata": {},
   "outputs": [],
   "source": [
    "# tiempo de muestreo [segundos]\n",
    "Ts = 0.2\n",
    "U = 0.2"
   ]
  },
  {
   "cell_type": "code",
   "execution_count": 3,
   "metadata": {},
   "outputs": [],
   "source": [
    "# obtiene el valor de K dado x0, U\n",
    "def get_K(x0, u):\n",
    "    K = np.sqrt(u/(2*x0))\n",
    "    return K"
   ]
  },
  {
   "cell_type": "code",
   "execution_count": 4,
   "metadata": {},
   "outputs": [
    {
     "name": "stdout",
     "output_type": "stream",
     "text": [
      "----------\n",
      "x0 = 1.000\n",
      "U  = 0.200\n",
      "K  = 0.316\n",
      "----------\n"
     ]
    }
   ],
   "source": [
    "x0_base = 1\n",
    "K = get_K(x0_base, U)\n",
    "print('----------')\n",
    "print('x0 = {:.3f}'.format(x0_base))\n",
    "print('U  = {:.3f}'.format(U))\n",
    "print('K  = {:.3f}'.format(K))\n",
    "print('----------')"
   ]
  },
  {
   "cell_type": "markdown",
   "metadata": {},
   "source": [
    "## Se define la matriz $A$"
   ]
  },
  {
   "cell_type": "code",
   "execution_count": 5,
   "metadata": {},
   "outputs": [],
   "source": [
    "A = np.array([[1,Ts],[-K,-K*Ts]])"
   ]
  },
  {
   "cell_type": "markdown",
   "metadata": {},
   "source": [
    "### Se calculan las potencias de $A^n$"
   ]
  },
  {
   "cell_type": "code",
   "execution_count": 6,
   "metadata": {},
   "outputs": [],
   "source": [
    "A_list = [A]\n",
    "# numero de iteraciones\n",
    "N = 200\n",
    "# se itera sobre N\n",
    "for k in range(1,N):\n",
    "    A_1 = A\n",
    "    A_2 = A_list[len(A_list)-1]\n",
    "    A_mult = np.matmul(A_1, A_2)\n",
    "    A_list.append(A_mult)"
   ]
  },
  {
   "cell_type": "markdown",
   "metadata": {},
   "source": [
    "### Se muestran resultados:"
   ]
  },
  {
   "cell_type": "code",
   "execution_count": 7,
   "metadata": {},
   "outputs": [
    {
     "name": "stdout",
     "output_type": "stream",
     "text": [
      "A\n",
      "[[ 1.          0.2       ]\n",
      " [-0.31622777 -0.06324555]]\n"
     ]
    }
   ],
   "source": [
    "print(\"A\")\n",
    "print(A_list[0])"
   ]
  },
  {
   "cell_type": "code",
   "execution_count": 10,
   "metadata": {},
   "outputs": [
    {
     "name": "stdout",
     "output_type": "stream",
     "text": [
      "A 100\n",
      "[[ 1.55221035e-03  3.10442070e-04]\n",
      " [-4.90852011e-04 -9.81704021e-05]]\n"
     ]
    }
   ],
   "source": [
    "print(\"A 100\")\n",
    "print(A_list[100-1])"
   ]
  },
  {
   "cell_type": "code",
   "execution_count": 11,
   "metadata": {},
   "outputs": [
    {
     "name": "stdout",
     "output_type": "stream",
     "text": [
      "A 200\n",
      "[[ 2.25697585e-06  4.51395170e-07]\n",
      " [-7.13718431e-07 -1.42743686e-07]]\n"
     ]
    }
   ],
   "source": [
    "print(\"A 200\")\n",
    "print(A_list[200-1])\n"
   ]
  },
  {
   "cell_type": "markdown",
   "metadata": {},
   "source": [
    "## Se comprueba que tiende a 0 !"
   ]
  },
  {
   "cell_type": "code",
   "execution_count": null,
   "metadata": {},
   "outputs": [],
   "source": []
  },
  {
   "cell_type": "code",
   "execution_count": null,
   "metadata": {},
   "outputs": [],
   "source": []
  }
 ],
 "metadata": {
  "kernelspec": {
   "display_name": "Python 3",
   "language": "python",
   "name": "python3"
  },
  "language_info": {
   "codemirror_mode": {
    "name": "ipython",
    "version": 3
   },
   "file_extension": ".py",
   "mimetype": "text/x-python",
   "name": "python",
   "nbconvert_exporter": "python",
   "pygments_lexer": "ipython3",
   "version": "3.7.1"
  }
 },
 "nbformat": 4,
 "nbformat_minor": 2
}
