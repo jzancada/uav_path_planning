{
 "cells": [
  {
   "cell_type": "markdown",
   "metadata": {},
   "source": [
    "# Discretizacion segundo orden\n",
    "\n",
    "Para el sistema $$s^2 x + 2\\zeta\\omega sx + \\omega^2 x = K \\omega^2 u  $$\n",
    "con $T_s$ tiempo entre muestras. \n",
    "\n",
    "El sistema discretizado es de la forma:\n",
    "$$x[k+2] = a_1 x[k+1] + a_0 x[k] + b_0 u[k]$$\n",
    "\n",
    "con:\n",
    "* $a_1 = 2(1 - \\zeta\\omega T_s) $\n",
    "* $a_0 = -1 +2\\zeta\\omega T_s - \\omega^2 T_s^2$\n",
    "* $b_0 = K \\omega^2 T_s^2$\n",
    "\n",
    "\n",
    "y a la inversa:\n",
    "* $ \\omega = \\frac {\\sqrt{1-a_0-a_1}}  {T_s}$\n",
    "* $ \\zeta = (1 - \\frac{a_1}{2}) \\frac{1}{\\omega T_s}$\n",
    "* $ K = \\frac{b_0}{\\omega^2 T_s^2}$"
   ]
  },
  {
   "cell_type": "code",
   "execution_count": 1,
   "metadata": {},
   "outputs": [],
   "source": [
    "import numpy as np\n",
    "import matplotlib.pyplot as plt"
   ]
  },
  {
   "cell_type": "code",
   "execution_count": 118,
   "metadata": {},
   "outputs": [],
   "source": [
    "N = 100\n",
    "t = np.arange(0,N)"
   ]
  },
  {
   "cell_type": "code",
   "execution_count": 119,
   "metadata": {},
   "outputs": [],
   "source": [
    "# sistema segundo orden\n",
    "def get_a1_a0_b0(sigma, omega, K, Ts):\n",
    "    a_1 = 2*(1-sigma * omega * Ts)\n",
    "    a_0 = -1 +2*sigma*omega*Ts - (omega*Ts)**2\n",
    "    b_0 = K * (omega*Ts)**2\n",
    "    return a_1, a_0, b_0\n",
    "\n",
    "def get_sigma_omega_K(a_1, a_0, b_0, Ts):\n",
    "    omega = np.sqrt(1-a_0-a_1)/Ts\n",
    "    sigma = (1-a_1/2)*1/(omega*Ts)\n",
    "    K = b_0/(omega*Ts)**2\n",
    "    return sigma, omega, K"
   ]
  },
  {
   "cell_type": "code",
   "execution_count": 120,
   "metadata": {},
   "outputs": [
    {
     "name": "stdout",
     "output_type": "stream",
     "text": [
      "omega=62.832\n",
      "a_1 = +1.497\n",
      "a_0 = -0.892\n",
      "b_0 = +0.316\n"
     ]
    }
   ],
   "source": [
    "# sistema segundo orden\n",
    "sigma = 0.4\n",
    "omega = 2*np.pi*10\n",
    "K = 0.8\n",
    "print('{}={:.3f}'.format('omega', omega))\n",
    "a_1, a_0, b_0 = get_a1_a0_b0(sigma, omega, K, Ts)\n",
    "print('{}= {:+.3f}'.format('a_1 ', a_1))\n",
    "print('{}= {:+.3f}'.format('a_0 ', a_0))\n",
    "print('{}= {:+.3f}'.format('b_0 ', b_0))\n"
   ]
  },
  {
   "cell_type": "code",
   "execution_count": 121,
   "metadata": {},
   "outputs": [
    {
     "name": "stdout",
     "output_type": "stream",
     "text": [
      "sigma_b= 0.40000000000000013\n",
      "omega_b= 62.83185307179585\n",
      "K_b= 0.8000000000000003\n"
     ]
    }
   ],
   "source": [
    "#comprobacion\n",
    "sigma_b, omega_b, K_b = get_sigma_omega_K(a_1, a_0, b_0, Ts)\n",
    "print('sigma_b=',sigma_b)\n",
    "print('omega_b=',omega_b)\n",
    "print('K_b=',K_b)"
   ]
  },
  {
   "cell_type": "code",
   "execution_count": 122,
   "metadata": {},
   "outputs": [],
   "source": [
    "# simulacion escalon\n",
    "x = np.zeros(N)\n",
    "u = np.ones(N)\n",
    "for k in range (0,N-2):\n",
    "    x[k+2] = a_1 * x[k+1] + a_0 * x[k] + b_0 * u[k]"
   ]
  },
  {
   "cell_type": "code",
   "execution_count": 123,
   "metadata": {},
   "outputs": [
    {
     "data": {
      "text/plain": [
       "Text(0, 0.5, 'amplitude')"
      ]
     },
     "execution_count": 123,
     "metadata": {},
     "output_type": "execute_result"
    },
    {
     "data": {
      "image/png": "[encoded data removed]",
      "text/plain": [
       "<Figure size 432x288 with 1 Axes>"
      ]
     },
     "metadata": {
      "needs_background": "light"
     },
     "output_type": "display_data"
    }
   ],
   "source": [
    "plt.plot(t,x)\n",
    "plt.grid()\n",
    "plt.xlabel('time')\n",
    "plt.ylabel('amplitude')\n",
    "#plt.xlim(0,0.1)"
   ]
  },
  {
   "cell_type": "code",
   "execution_count": null,
   "metadata": {},
   "outputs": [],
   "source": []
  },
  {
   "cell_type": "code",
   "execution_count": null,
   "metadata": {},
   "outputs": [],
   "source": []
  },
  {
   "cell_type": "code",
   "execution_count": null,
   "metadata": {},
   "outputs": [],
   "source": []
  }
 ],
 "metadata": {
  "kernelspec": {
   "display_name": "Python 3",
   "language": "python",
   "name": "python3"
  },
  "language_info": {
   "codemirror_mode": {
    "name": "ipython",
    "version": 3
   },
   "file_extension": ".py",
   "mimetype": "text/x-python",
   "name": "python",
   "nbconvert_exporter": "python",
   "pygments_lexer": "ipython3",
   "version": "3.6.8"
  }
 },
 "nbformat": 4,
 "nbformat_minor": 2
}
