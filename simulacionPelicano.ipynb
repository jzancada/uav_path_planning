{
 "cells": [
  {
   "cell_type": "markdown",
   "metadata": {},
   "source": [
    "# Simulacion Pelicano"
   ]
  },
  {
   "cell_type": "code",
   "execution_count": 1,
   "metadata": {},
   "outputs": [],
   "source": [
    "import numpy as np\n",
    "import pandas as pd\n",
    "import matplotlib.pyplot as plt\n",
    "%matplotlib inline\n",
    "\n",
    "from scipy import signal"
   ]
  },
  {
   "cell_type": "markdown",
   "metadata": {},
   "source": [
    "Matriz de transformacion $R_b^i$\n",
    "\n",
    "\n",
    "$$ [x^{(1)} y^{(1)}z^{(1)}]^T=R_b^i(\\phi,\\theta,\\psi) [u v w]$$\n",
    "\n",
    "con\n",
    "\n",
    "\n",
    "$$ R_b^i(\\phi,\\theta,\\psi) = \\begin{bmatrix}\n",
    "cos(\\theta)cos(\\psi) &  sin(\\phi)sin(\\theta)cos(\\psi)-cos(\\phi)sin(\\psi) & cos(\\phi)sin(\\theta)cos(\\psi)+sin(\\phi)sin(\\psi) \\\\\n",
    "cos(\\theta)sin(\\psi) &  sin(\\phi)sin(\\theta)sin(\\psi)+cos(\\phi)cos(\\psi) & cos(\\phi)sin(\\theta)sin(\\psi)-sin(\\phi)cos(\\psi) \\\\\n",
    "-sin(\\theta)         &          sin(\\phi)cos(\\theta)&                                     cos(\\phi)cos(\\theta)\n",
    "\\end{bmatrix}$$"
   ]
  },
  {
   "cell_type": "code",
   "execution_count": 178,
   "metadata": {},
   "outputs": [],
   "source": [
    "# matriz transformacion\n",
    "# [x_dot y_dot z_dot]^T = R_b_i [u v w]^T\n",
    "#\n",
    "def get_R_b_i(phi, theta, psi):\n",
    "    return [\n",
    "        [np.cos(theta)*np.cos(psi),  np.sin(phi)*np.sin(theta)*np.cos(psi)-np.cos(phi)*np.sin(psi), np.cos(phi)*np.sin(theta)*np.cos(psi)+np.sin(phi)*np.sin(psi)],\n",
    "        [np.cos(theta)*np.sin(psi),  np.sin(phi)*np.sin(theta)*np.sin(psi)+np.cos(phi)*np.cos(psi), np.cos(phi)*np.sin(theta)*np.sin(psi)-np.sin(phi)*np.cos(psi)],\n",
    "        [-np.sin(theta),          np.sin(phi)*np.cos(theta),                                     np.cos(phi)*np.cos(theta)]]\n"
   ]
  },
  {
   "cell_type": "code",
   "execution_count": 179,
   "metadata": {},
   "outputs": [],
   "source": [
    "# estado: se trata de una estructura\n",
    "class state_class:\n",
    "    x =0\n",
    "    y= 0\n",
    "    z = 0\n",
    "        \n",
    "    phi = 0;\n",
    "    theta = 0;\n",
    "    psi = 0;\n",
    "    \n",
    "    u = 0\n",
    "    v = 0\n",
    "    w = 0\n",
    "    \n",
    "    p = 0\n",
    "    q = 0\n",
    "    r = 0\n",
    "\n",
    "    def reset(self):\n",
    "        self.x = 0\n",
    "        self.y = 0\n",
    "        self.z = 0\n",
    "        \n",
    "        self.phi = 0\n",
    "        self.theta = 0\n",
    "        self.psi = 0\n",
    "        \n",
    "        self.u = 0\n",
    "        self.v = 0\n",
    "        self.w = 0\n",
    "        \n",
    "        self.p = 0\n",
    "        self.q = 0\n",
    "        self.r = 0\n",
    "        \n",
    "    def __init__(self):\n",
    "        self.reset()\n",
    "        \n",
    "    def get(self):\n",
    "        return self.x, self.y, self.z, \\\n",
    "    self.u, self.v, self.w, \\\n",
    "    self.phi, self.theta, self.psi, \\\n",
    "    self.p, self.q, self.r\n",
    "     \n"
   ]
  },
  {
   "cell_type": "code",
   "execution_count": 180,
   "metadata": {},
   "outputs": [],
   "source": [
    "class helo_model_class:\n",
    "    kplat = 0.010270019155209309\n",
    "    kplon = -0.005451590220066471\n",
    "    kpp1 = 1.6000649499575583\n",
    "    kpp2 = -0.6024512171373023\n",
    "    kpq1 = -0.07838208574305183\n",
    "    kpq2 = 0.07218587842107016\n",
    "\n",
    "    kqq1 =  0.49424047246691166\n",
    "    kqq2 = 0.48747950040347793\n",
    "    kqlat = 0.019859818630942216\n",
    "    kqlon = -0.04408244668434985\n",
    "  \n",
    "    Z_col =  -0.27267421\n",
    "              \n",
    "    K_ped =  1.886918594924818\n",
    "    \n",
    "    state      = state_class ()\n",
    "    state_prev = state_class ()\n",
    "    state_prev2 = state_class ()\n",
    "    \n",
    "    def __init__(self):\n",
    "        self.state.reset()\n",
    "        self.state_prev.reset()\n",
    "        self.state_prev2.reset()\n",
    "        pass\n",
    "\n",
    "    def step(self, d_lat, d_lon, d_col, d_ped):\n",
    "\n",
    "        g = 9.8\n",
    "\n",
    "        # guarda prev\n",
    "        self.state_prev2 = self.state_prev\n",
    "        self.state_prev = self.state\n",
    "        \n",
    "        # actualiza estado\n",
    "        self.state.p = self.kpp1 * self.state_prev.p +  self.kpp2 * self.state_prev2.p \\\n",
    "        + self.kpq1 * self.state_prev.q +  self.kpq2 * self.state_prev2.q \\\n",
    "        + self.kplat * d_lat + self.kplon * d_lon\n",
    "        \n",
    "        self.state.q = self.kqq1 * self.state_prev.q +  self.kqq2 * self.state_prev2.q \\\n",
    "        + self.kqlat * d_lat + self.kqlon * d_lon\n",
    "        \n",
    "        self.state.r = self.K_ped * d_ped\n",
    "        \n",
    "        self.state.u = self.state_prev.u - g*self.state_prev.theta*Ts\n",
    "        self.state.v = self.state_prev.v + g*self.state_prev.phi*Ts\n",
    "        self.state.w = self.state_prev.w + self.Z_col*d_col\n",
    "        \n",
    "        phi   = self.state_prev.phi\n",
    "        theta = self.state_prev.theta\n",
    "        psi   = self.state_prev.psi\n",
    "\n",
    "        G = np.array([[1,np.sin(phi)*np.tan(theta), np.cos(phi)*np.tan(theta)],\n",
    "                      [0,np.cos(phi),              -np.sin(phi)],\n",
    "                      [0,np.sin(phi)/np.cos(theta), np.cos(phi)/np.cos(theta)]])\n",
    "        phi_theta_psi = np.matmul(G, [self.state_prev.p,self.state_prev.q,self.state_prev.r])\n",
    "        \n",
    "        self.state.phi   = self.state_prev.phi   +  Ts*phi_theta_psi[0]\n",
    "        self.state.theta = self.state_prev.theta +  Ts*phi_theta_psi[1]\n",
    "        self.state.psi   = self.state_prev.psi   +  Ts*phi_theta_psi[2]\n",
    "        \n",
    "        R_b_i = get_R_b_i(phi, theta, psi)\n",
    "        uvw = [self.state_prev.u, self.state_prev.v, self.state_prev.w]\n",
    "        xyz_dot = np.matmul(R_b_i,uvw)\n",
    "        x_dot = xyz_dot[0]\n",
    "        y_dot = xyz_dot[1]\n",
    "        z_dot = xyz_dot[2]\n",
    "        \n",
    "        self.state.x = self.state_prev.x + Ts*x_dot\n",
    "        self.state.y = self.state_prev.y + Ts*y_dot\n",
    "        self.state.z = self.state_prev.z + Ts*z_dot\n",
    "        \n",
    "        return self.state"
   ]
  },
  {
   "cell_type": "markdown",
   "metadata": {},
   "source": [
    "## pid"
   ]
  },
  {
   "cell_type": "code",
   "execution_count": 181,
   "metadata": {},
   "outputs": [],
   "source": [
    "#pid\n",
    "class pid_class:\n",
    "    def __init__(self):\n",
    "        self.I = 0 # integral\n",
    "\n",
    "    def step(self, e, e_dot):\n",
    "        self.I = self.I + e*Ts\n",
    "        p0 = .01\n",
    "        lambda_0 = p0**3\n",
    "        lambda_1 = 3*p0**2\n",
    "        lambda_2 = 3*p0\n",
    "        return -lambda_0*self.I - lambda_1*e - lambda_2*e_dot"
   ]
  },
  {
   "cell_type": "markdown",
   "metadata": {},
   "source": [
    "## control"
   ]
  },
  {
   "cell_type": "code",
   "execution_count": 182,
   "metadata": {},
   "outputs": [],
   "source": [
    "# control        \n",
    "class control_class:\n",
    "    def __init__(self, helo_model):\n",
    "        self.helo_model = helo_model\n",
    "        self.pid_z = pid_class() # pid\n",
    "        pass\n",
    "\n",
    "    def p_q(self, p_ref, q_ref):\n",
    "        d_lat = -5*(self.helo_model.state_prev.p-p_ref)\n",
    "        d_lon =  5*(self.helo_model.state_prev.q-q_ref)\n",
    "        return d_lat,d_lon\n",
    "\n",
    "    def phi_theta(self, phi_ref, theta_ref):\n",
    "        p_ref = -(self.helo_model.state_prev.phi-phi_ref)*0.9      \n",
    "        q_ref = -(self.helo_model.state_prev.theta-theta_ref)*0.9\n",
    "        return self.p_q(p_ref, q_ref)\n",
    "\n",
    "    def u_v(self, u_ref, v_ref):\n",
    "        theta_ref    =   (self.helo_model.state_prev.u-u_ref)/9.8/Ts * 0.005\n",
    "        phi_ref      =  -(self.helo_model.state_prev.v-v_ref)/9.8/Ts * 0.005\n",
    "        return self.phi_theta(phi_ref, theta_ref)\n",
    "\n",
    "    def w(self, w_ref):\n",
    "        e = self.helo_model.state_prev.w - w_ref\n",
    "        d_col = e*(1-0.9)\n",
    "        return d_col;\n",
    "\n",
    "    def z(self, z_ref, N=10):\n",
    "        e = self.helo_model.state_prev.z - z_ref;\n",
    "        w = self.helo_model.state_prev.w \n",
    "        d_col = -(e + Ts*w)*(1/N)\n",
    "        d_col = d_col /Ts-w\n",
    "        d_col = d_col / (-0.27267421)\n",
    "        return d_col\n",
    "\n",
    "    def psi(self, psi_ref):\n",
    "        e = self.helo_model.state_prev.psi - psi_ref;\n",
    "        d_ped = -e*(1-0.91)\n",
    "        return d_ped\n"
   ]
  },
  {
   "cell_type": "markdown",
   "metadata": {},
   "source": [
    "# Test"
   ]
  },
  {
   "cell_type": "code",
   "execution_count": 239,
   "metadata": {},
   "outputs": [],
   "source": [
    "# test:\n",
    "# z, psi\n",
    "class test_class:\n",
    "    N =0\n",
    "    ind = 0\n",
    "    def __init__(self):\n",
    "#        self.info=(t, u, v, z, psi)\n",
    "        self.info=( (0, 0, 0, 0, 0),\n",
    "                    (10, 1, 0, .10,  np.pi/2),\n",
    "                    (100, 2, 0, .20,  np.pi/2),\n",
    "                    (200, 2, 0, -.1, -np.pi/2),\n",
    "                    (400, 2, 0, -.1, -np.pi/2*0)\n",
    "                  )\n",
    "        self.N = len(self.info)\n",
    "        self.ind = 0\n",
    "\n",
    "    def get(self, t_sim):\n",
    "        ind = self.ind\n",
    "        if (ind+1)<self.N:\n",
    "            t = self.info[ind+1][0]\n",
    "            if t<= t_sim:\n",
    "                self.ind = self.ind + 1\n",
    "        u   = self.info[self.ind][1]\n",
    "        v   = self.info[self.ind][2]\n",
    "        z   = self.info[self.ind][3]\n",
    "        psi = self.info[self.ind][4]\n",
    "        return u, v, z, psi"
   ]
  },
  {
   "cell_type": "markdown",
   "metadata": {},
   "source": [
    "# simulacion"
   ]
  },
  {
   "cell_type": "code",
   "execution_count": 240,
   "metadata": {},
   "outputs": [],
   "source": [
    "helo_model = helo_model_class()\n",
    "control = control_class(helo_model)\n",
    "test = test_class()\n",
    "\n",
    "N = 30000\n",
    "Ts = 0.01\n",
    "d_lat = np.zeros(N)\n",
    "d_lon = np.zeros(N)\n",
    "d_col = np.zeros(N)\n",
    "d_ped = np.zeros(N)\n",
    "\n",
    "x = np.zeros(N)\n",
    "y = np.zeros(N)\n",
    "z = np.zeros(N)\n",
    "\n",
    "u = np.zeros(N)\n",
    "v = np.zeros(N)\n",
    "w = np.zeros(N)\n",
    "phi = np.zeros(N)\n",
    "theta = np.zeros(N)\n",
    "psi = np.zeros(N)\n",
    "\n",
    "p = np.zeros(N)\n",
    "q = np.zeros(N)\n",
    "r = np.zeros(N)\n",
    "\n",
    "p_ref = np.zeros(N)\n",
    "q_ref = np.zeros(N)\n",
    "u_ref = np.zeros(N)\n",
    "v_ref = np.zeros(N)\n",
    "z_ref = np.zeros(N)\n",
    "psi_ref = np.zeros(N)\n",
    "\n",
    "# simulacion\n",
    "for k in range(0,N):   \n",
    "    # referencia\n",
    "    u_ref[k], v_ref[k], z_ref[k], psi_ref[k] = test.get(k*Ts)\n",
    "    \n",
    "    ## control\n",
    "    d_lat[k], d_lon[k] = control.u_v(u_ref[k], v_ref[k])\n",
    "    # control z\n",
    "    d_col[k] = control.z(z_ref[k], 200)\n",
    "    # control psi\n",
    "    d_ped[k] = control.psi(psi_ref[k])\n",
    "    \n",
    "    \n",
    "    # model\n",
    "    state = helo_model.step(d_lat[k], d_lon[k], d_col[k], d_ped[k])\n",
    "    x[k], y[k], z[k], u[k], v[k], w[k], phi[k], theta[k], psi[k], p[k], q[k], r[k] = state.get()\n"
   ]
  },
  {
   "cell_type": "code",
   "execution_count": 241,
   "metadata": {},
   "outputs": [
    {
     "data": {
      "text/plain": [
       "Text(0.5, 1.0, 'p q')"
      ]
     },
     "execution_count": 241,
     "metadata": {},
     "output_type": "execute_result"
    },
    {
     "data": {
      "image/png": "[encoded data removed]",
      "text/plain": [
       "<Figure size 432x288 with 1 Axes>"
      ]
     },
     "metadata": {
      "needs_background": "light"
     },
     "output_type": "display_data"
    }
   ],
   "source": [
    "plt.plot(p,'k')\n",
    "plt.plot(q,'r')\n",
    "plt.title('p q')\n"
   ]
  },
  {
   "cell_type": "code",
   "execution_count": 242,
   "metadata": {},
   "outputs": [
    {
     "data": {
      "text/plain": [
       "Text(0.5, 1.0, 'phi theta')"
      ]
     },
     "execution_count": 242,
     "metadata": {},
     "output_type": "execute_result"
    },
    {
     "data": {
      "image/png": "[encoded data removed]",
      "text/plain": [
       "<Figure size 432x288 with 1 Axes>"
      ]
     },
     "metadata": {
      "needs_background": "light"
     },
     "output_type": "display_data"
    }
   ],
   "source": [
    "plt.plot(phi,'k')\n",
    "plt.plot(theta,'r')\n",
    "plt.title('phi theta')"
   ]
  },
  {
   "cell_type": "code",
   "execution_count": 243,
   "metadata": {},
   "outputs": [
    {
     "data": {
      "text/plain": [
       "Text(0.5, 1.0, 'd_lat d_lon d_col d_ped')"
      ]
     },
     "execution_count": 243,
     "metadata": {},
     "output_type": "execute_result"
    },
    {
     "data": {
      "image/png": "[encoded data removed]",
      "text/plain": [
       "<Figure size 432x288 with 1 Axes>"
      ]
     },
     "metadata": {
      "needs_background": "light"
     },
     "output_type": "display_data"
    }
   ],
   "source": [
    "plt.plot(d_lat, label='lat')\n",
    "plt.plot(d_lon, label='lon')\n",
    "plt.plot(d_col, label='col')\n",
    "plt.plot(d_ped, label='ped')\n",
    "plt.legend()\n",
    "plt.title('d_lat d_lon d_col d_ped')\n"
   ]
  },
  {
   "cell_type": "code",
   "execution_count": 244,
   "metadata": {},
   "outputs": [
    {
     "data": {
      "text/plain": [
       "<matplotlib.legend.Legend at 0x21bb4e06588>"
      ]
     },
     "execution_count": 244,
     "metadata": {},
     "output_type": "execute_result"
    },
    {
     "data": {
      "image/png": "[encoded data removed]",
      "text/plain": [
       "<Figure size 432x288 with 1 Axes>"
      ]
     },
     "metadata": {
      "needs_background": "light"
     },
     "output_type": "display_data"
    }
   ],
   "source": [
    "plt.plot(u,'k', label='u')\n",
    "plt.plot(v,'b', label='v')\n",
    "plt.title('u v')\n",
    "plt.plot(u_ref)\n",
    "plt.legend()"
   ]
  },
  {
   "cell_type": "code",
   "execution_count": 245,
   "metadata": {},
   "outputs": [
    {
     "data": {
      "text/plain": [
       "Text(0.5, 1.0, 'w')"
      ]
     },
     "execution_count": 245,
     "metadata": {},
     "output_type": "execute_result"
    },
    {
     "data": {
      "image/png": "[encoded data removed]",
      "text/plain": [
       "<Figure size 432x288 with 1 Axes>"
      ]
     },
     "metadata": {
      "needs_background": "light"
     },
     "output_type": "display_data"
    }
   ],
   "source": [
    "plt.plot(w)\n",
    "plt.title('w')"
   ]
  },
  {
   "cell_type": "code",
   "execution_count": 246,
   "metadata": {},
   "outputs": [
    {
     "data": {
      "text/plain": [
       "Text(0.5, 1.0, 'z')"
      ]
     },
     "execution_count": 246,
     "metadata": {},
     "output_type": "execute_result"
    },
    {
     "data": {
      "image/png": "[encoded data removed]",
      "text/plain": [
       "<Figure size 432x288 with 1 Axes>"
      ]
     },
     "metadata": {
      "needs_background": "light"
     },
     "output_type": "display_data"
    }
   ],
   "source": [
    "plt.plot(z)\n",
    "plt.plot(z_ref)\n",
    "plt.title('z')"
   ]
  },
  {
   "cell_type": "code",
   "execution_count": 247,
   "metadata": {},
   "outputs": [
    {
     "data": {
      "text/plain": [
       "Text(0.5, 1.0, 'psi')"
      ]
     },
     "execution_count": 247,
     "metadata": {},
     "output_type": "execute_result"
    },
    {
     "data": {
      "image/png": "[encoded data removed]",
      "text/plain": [
       "<Figure size 432x288 with 1 Axes>"
      ]
     },
     "metadata": {
      "needs_background": "light"
     },
     "output_type": "display_data"
    }
   ],
   "source": [
    "plt.plot(psi)\n",
    "plt.plot(psi_ref)\n",
    "plt.title('psi')"
   ]
  },
  {
   "cell_type": "code",
   "execution_count": 248,
   "metadata": {},
   "outputs": [
    {
     "data": {
      "text/plain": [
       "(-1.4094399241933382, 29.5982384080601, -14.431788546624972, 303.0666577784078)"
      ]
     },
     "execution_count": 248,
     "metadata": {},
     "output_type": "execute_result"
    },
    {
     "data": {
      "image/png": "[encoded data removed]",
      "text/plain": [
       "<Figure size 432x288 with 1 Axes>"
      ]
     },
     "metadata": {
      "needs_background": "light"
     },
     "output_type": "display_data"
    }
   ],
   "source": [
    "plt.plot(x,y,'.')\n",
    "plt.axis('equal')"
   ]
  },
  {
   "cell_type": "code",
   "execution_count": null,
   "metadata": {},
   "outputs": [],
   "source": []
  },
  {
   "cell_type": "code",
   "execution_count": null,
   "metadata": {},
   "outputs": [],
   "source": []
  },
  {
   "cell_type": "code",
   "execution_count": null,
   "metadata": {},
   "outputs": [],
   "source": []
  },
  {
   "cell_type": "code",
   "execution_count": null,
   "metadata": {},
   "outputs": [],
   "source": []
  },
  {
   "cell_type": "code",
   "execution_count": null,
   "metadata": {},
   "outputs": [],
   "source": []
  },
  {
   "cell_type": "code",
   "execution_count": null,
   "metadata": {},
   "outputs": [],
   "source": []
  },
  {
   "cell_type": "code",
   "execution_count": null,
   "metadata": {},
   "outputs": [],
   "source": []
  },
  {
   "cell_type": "code",
   "execution_count": null,
   "metadata": {},
   "outputs": [],
   "source": []
  },
  {
   "cell_type": "code",
   "execution_count": null,
   "metadata": {},
   "outputs": [],
   "source": []
  }
 ],
 "metadata": {
  "kernelspec": {
   "display_name": "Python 3",
   "language": "python",
   "name": "python3"
  },
  "language_info": {
   "codemirror_mode": {
    "name": "ipython",
    "version": 3
   },
   "file_extension": ".py",
   "mimetype": "text/x-python",
   "name": "python",
   "nbconvert_exporter": "python",
   "pygments_lexer": "ipython3",
   "version": "3.6.8"
  }
 },
 "nbformat": 4,
 "nbformat_minor": 2
}
